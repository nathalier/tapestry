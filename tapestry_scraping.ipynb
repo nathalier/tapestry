{
 "cells": [
  {
   "cell_type": "code",
   "execution_count": 4,
   "id": "72fc249b-2888-487a-8eb3-3fa99b8e4d24",
   "metadata": {},
   "outputs": [],
   "source": [
    "import requests\n",
    "from bs4 import BeautifulSoup\n",
    "from pathlib import Path\n",
    "from datetime import datetime\n",
    "import re"
   ]
  },
  {
   "cell_type": "code",
   "execution_count": 5,
   "id": "b62379ad-a3d2-4152-9df4-dde5b263641c",
   "metadata": {},
   "outputs": [],
   "source": [
    "s = requests.Session()"
   ]
  },
  {
   "cell_type": "code",
   "execution_count": 18,
   "id": "742ba067-66c6-4546-9c8e-b7ca6d3f0062",
   "metadata": {},
   "outputs": [],
   "source": [
    "records_dir = Path('records')\n",
    "records_dir.mkdir(exist_ok=True)"
   ]
  },
  {
   "cell_type": "code",
   "execution_count": 27,
   "id": "e833d610-3ee0-44cf-b518-6cf067b5eb99",
   "metadata": {},
   "outputs": [],
   "source": [
    "cookies = {\"tapestry_session\" : \"eyJpdiI6IlV5V0Q0aDMzeTdKaVdtSFVMZldRclE9PSIsInZhbHVlIjoib0tqZ05hT09rOEttS3Y5MXBoYnorQnR2R1dlQ0VHNlkreTdTS3NUS1JwNktiekNRRUVRMzV1dXNPUXZsM0g4eHR2cnBWTG1UMFAwK2lZXC93SU0wNXU1eVwvNzZFUklxWk5PV3pwOXRmTjBcLzhSNEF2TXNFaDY1Q09FMHU0a3Y4WFgiLCJtYWMiOiIyYzJmNDZkNGYwZDhlNDc3YWMxZjk3NzE2ZmUzNmQ3ZTNhN2RkOTllYmZkOTVhNGM4N2Q3ZWQyMjg4NzY0YTkwIn0%3D\"}"
   ]
  },
  {
   "cell_type": "code",
   "execution_count": 45,
   "id": "e94a1995-0c8d-481d-9544-48366c867bcb",
   "metadata": {},
   "outputs": [],
   "source": [
    "r = s.get(\"https://tapestryjournal.com/s/ridgefield-primary-school/observations?page_size=100\", \n",
    "          cookies=cookies)\n",
    "assert r.status_code == 200\n",
    "soup = BeautifulSoup(r.content, 'html.parser')"
   ]
  },
  {
   "cell_type": "code",
   "execution_count": 11,
   "id": "5e70f4b9-0434-4fa5-a4d3-c86c6bce9279",
   "metadata": {},
   "outputs": [],
   "source": [
    "def parse_added_str(added_str):\n",
    "    dt = added_str[:20]\n",
    "    reformated_dt = datetime.strptime(dt, '%d %b %Y %I:%M %p').strftime('%Y%m%d_%H%M')\n",
    "    auth = added_str[24:]\n",
    "    return dt, reformated_dt, auth"
   ]
  },
  {
   "cell_type": "code",
   "execution_count": 12,
   "id": "e79906cf-8167-4532-b8b6-bdfcc39cd011",
   "metadata": {},
   "outputs": [
    {
     "data": {
      "text/plain": [
       "'.jpg'"
      ]
     },
     "execution_count": 12,
     "metadata": {},
     "output_type": "execute_result"
    }
   ],
   "source": [
    "def find_img_extension(url):\n",
    "    qm_pos = url.find('?')\n",
    "    if qm_pos < 0:\n",
    "        raise ValueError('ERROR: could not find parameters')\n",
    "    extention_start = url[:qm_pos].rfind('.')\n",
    "    if extention_start < 0:\n",
    "        raise ValueError(\"ERROR: could not find extention\")\n",
    "    return url[extention_start:qm_pos]\n",
    "              \n",
    "find_img_extension('https://tapestryjournal.com/xs/pages/s_42402/p_07-2022/t_o_15757_fxnvd6qqjxssq36w7a37vk454xzz2gxs.jpg?s=42402&u=290&Expires=1658360652&Signature=Y67W~D5EzAtQmXMvmO7iBMn30AMmlJ5X9JO4YtP0gIze3y3hYdn3xZ0gvMQO65X30T6wnqgt~naAlaqQfO3WGHEul45AWE9RhELjLEeunQ2s8SGU7y-TlbbrLMv4z5h-cgJH-1iWYjJqpjg9yOd0Bm2dO~dZr7LGUI~faF1mVGKfCVND0gg5hBp7noaFIEbxvTanHyfdLZdOTp0HFHyQD6QDyxJpHxt-6gWYEKVSEtNvqpysDUXVCcdmZzy0up41KTxACEhXW6CYQ7aGXHFA9cWVXRsOM8CqaqUMsSSyGIhSUGaxnLvetf-878Ma2m3fTm1V-zJvWV2J8YBMLmuQbA__&Key-Pair-Id=APKAJUSDRV55TOQKSATA')"
   ]
  },
  {
   "cell_type": "code",
   "execution_count": 9,
   "id": "6cc0b25b-13b8-49c4-a0fb-e7c356a9c960",
   "metadata": {
    "tags": []
   },
   "outputs": [],
   "source": [
    "def get_all_media(media_blocks, proceeded_num=0):\n",
    "    print(f'{proceeded_num = }')\n",
    "    missing = []\n",
    "    for mb_i, mb in enumerate(media_blocks):\n",
    "        if mb_i < proceeded_num:\n",
    "            continue\n",
    "\n",
    "        time_added = mb.find('h4').findNext('div').text.strip()\n",
    "        orig_dt, formatted_dt, author = parse_added_str(time_added)\n",
    "        print('\\n', orig_dt, formatted_dt, author)\n",
    "\n",
    "        album_url_tag = mb.find(lambda tag:tag.name==\"a\" and \"Download Media\" in tag.text)\n",
    "        if not album_url_tag:\n",
    "            print(f'{mb_i}: NO MEDIA')\n",
    "            proceeded_num += 1\n",
    "            continue\n",
    "        album_link = album_url_tag['href']\n",
    "        print(f'{album_link = }')\n",
    "\n",
    "        r_album = s.get(album_link)\n",
    "        soup_album = BeautifulSoup(r_album.content, 'html.parser')\n",
    "        photo_tags = soup_album.find_all('a')\n",
    "        print(f'{len(photo_tags) = }')\n",
    "\n",
    "        for i, photo_tag in enumerate(photo_tags):\n",
    "            media_url = photo_tag['href']\n",
    "\n",
    "            photo_req = s.get(media_url, stream=True)\n",
    "\n",
    "            if photo_req.status_code == 200:\n",
    "                if \"content-disposition\" in photo_req.headers:\n",
    "                    continue\n",
    "                    cd = photo_req.headers[\"content-disposition\"]\n",
    "                    cd_attr = {k: v for k, v in \n",
    "                         filter(lambda x: len(x) > 1, map(lambda x: x.strip(';').split('='), cd.split()))}\n",
    "                    orig_filename = cd_attr[\"filename\"]\n",
    "                    filename = f'{formatted_dt}_{i:02d}_{orig_filename}'\n",
    "                elif photo_tag.has_attr('download'):\n",
    "                    filename = f'{formatted_dt}_{i:02d}_{photo_tag[\"download\"]}'\n",
    "                else:\n",
    "                    raise ValueError('ERROR: unknown attachment type')\n",
    "                \n",
    "                print(f'{filename = }')\n",
    "\n",
    "                with open(records_dir / filename, 'wb') as f:\n",
    "                    f.write(photo_req.content)\n",
    "            else:\n",
    "                missing.append((mb_i, time_added, i))\n",
    "                raise ConnectionError\n",
    "\n",
    "        proceeded_num += 1\n",
    "\n",
    "    print(f'{proceeded_num = }')\n",
    "    print(f'{missing = }')\n",
    "    \n",
    "    return proceeded_num"
   ]
  },
  {
   "cell_type": "code",
   "execution_count": 43,
   "id": "adbb75f8-2f23-4e49-9b2d-1813c661ef86",
   "metadata": {},
   "outputs": [],
   "source": [
    "def get_all_memos(media_blocks):\n",
    "    all_memos = []\n",
    "    raw_memos = []\n",
    "    \n",
    "    for mb in media_blocks[::-1]:\n",
    "        cur_memo = []\n",
    "        cur_raw_memo = ''\n",
    "        \n",
    "        title = mb.find('h4').find('a').text.strip()\n",
    "        cur_memo.append(f'## {title}')\n",
    "        cur_raw_memo += f'## {title}\\n'\n",
    "        \n",
    "        time_added = mb.find('h4').findNext('div').text.strip()\n",
    "        cur_memo.append(f'### {time_added}')\n",
    "        cur_raw_memo += f'### {time_added}\\n'\n",
    "        \n",
    "        memo_url = mb.find('h4').find('a')['href']\n",
    "        req_memo = s.get(memo_url)\n",
    "        memo_soup = BeautifulSoup(req_memo.content, 'html.parser')\n",
    "        \n",
    "        notes_tag = memo_soup.find('div', {\"class\": \"page-note\"})\n",
    "        if notes_tag:\n",
    "            cur_raw_memo += f'{notes_tag}'\n",
    "\n",
    "            paragraphs = list(map(lambda x: f'{x.text.strip()}  ', notes_tag.find_all('p')))\n",
    "            cur_memo.extend(paragraphs)\n",
    "\n",
    "        all_memos.append('\\n'.join(cur_memo))\n",
    "        raw_memos.append(cur_raw_memo)\n",
    "    \n",
    "    return '\\n\\n'.join(all_memos), '\\n\\n'.join(raw_memos)"
   ]
  },
  {
   "cell_type": "code",
   "execution_count": 46,
   "id": "a94becd8-4726-4017-9d88-c0c02fc51d9f",
   "metadata": {
    "tags": []
   },
   "outputs": [
    {
     "data": {
      "text/plain": [
       "36"
      ]
     },
     "execution_count": 46,
     "metadata": {},
     "output_type": "execute_result"
    }
   ],
   "source": [
    "media_blocks = soup.find_all('div', {\"class\": \"media\"})\n",
    "len(media_blocks)"
   ]
  },
  {
   "cell_type": "code",
   "execution_count": 11,
   "id": "dee42cd7-ba25-4792-b101-e14ca9429412",
   "metadata": {},
   "outputs": [],
   "source": [
    "proceeded_num = 0"
   ]
  },
  {
   "cell_type": "code",
   "execution_count": 13,
   "id": "b0ab6b6b-ac29-4e36-bc3f-d717e6f1606a",
   "metadata": {},
   "outputs": [],
   "source": [
    "proceeded_num = get_all_media(media_blocks, proceeded_num)"
   ]
  },
  {
   "cell_type": "code",
   "execution_count": 47,
   "id": "2d4ddf95-f138-4c63-ba05-fc9f970fbb95",
   "metadata": {},
   "outputs": [],
   "source": [
    "memos, raw_memos = get_all_memos(media_blocks)\n",
    "\n",
    "with open(records_dir / 'memos.md', 'w', encoding='utf-8') as f:\n",
    "    f.write(memos)\n",
    "    \n",
    "with open(records_dir / 'memos_raw.txt', 'w', encoding='utf-8') as f:\n",
    "    f.write(raw_memos)"
   ]
  },
  {
   "cell_type": "code",
   "execution_count": null,
   "id": "c0da7e24-1477-49d2-bd26-f8dd58e9efaf",
   "metadata": {},
   "outputs": [],
   "source": []
  },
  {
   "cell_type": "code",
   "execution_count": 32,
   "id": "98814306-a1d2-4de2-8832-d0321531a99e",
   "metadata": {},
   "outputs": [],
   "source": [
    "r_common = s.get(\"https://tapestryjournal.com/s/ridgefield-primary-school/memos?page_size=100\")\n",
    "assert r_common.status_code == 200\n",
    "soup_common = BeautifulSoup(r_common.content, 'html.parser')"
   ]
  },
  {
   "cell_type": "code",
   "execution_count": 33,
   "id": "f30f5a2e-a431-4802-a25b-d5c76bb29f7a",
   "metadata": {},
   "outputs": [
    {
     "data": {
      "text/plain": [
       "18"
      ]
     },
     "execution_count": 33,
     "metadata": {},
     "output_type": "execute_result"
    }
   ],
   "source": [
    "common_media_blocks = soup_common.find_all('div', {\"class\": \"media\"})\n",
    "len(common_media_blocks)"
   ]
  },
  {
   "cell_type": "code",
   "execution_count": 173,
   "id": "07a16006-430b-4233-9c25-3dab4c54f7f7",
   "metadata": {},
   "outputs": [],
   "source": [
    "proceeded_num = 0"
   ]
  },
  {
   "cell_type": "code",
   "execution_count": 178,
   "id": "cdcdc408-9bc8-4254-a8f9-f50291dba934",
   "metadata": {
    "collapsed": true,
    "jupyter": {
     "outputs_hidden": true
    },
    "tags": []
   },
   "outputs": [
    {
     "name": "stdout",
     "output_type": "stream",
     "text": [
      "proceeded_num = 0\n",
      "\n",
      " 08 Jul 2022 04:04 PM 20220708_1604 Kay Barber\n",
      "album_link = 'https://tapestryjournal.com/s/ridgefield-primary-school/pages/media-download-modal/8898'\n",
      "photo_tags = [<a href=\"https://tapestryjournal.com/s/ridgefield-primary-school/pages/media-download?page=8898&amp;media=15839\">\n",
      "<img height=\"90\" src=\"https://tapestryjournal.com/1s/pages/s_42402/p_07-2022/t_o_15839_h7dz5fm3vccadgr4zxz5c5tkx09f061s.jpg?s=42402&amp;u=290&amp;Expires=1658375079&amp;Signature=dPE6BMpbskfEyvVPk05K820jo9-BWp0FiXLc9zpk9a5n25VhyP~~Wla2n6HmC3gj962EPB-AcG3OROlWZ59iqKE~YVbLZk1jbiN3bUlqVdCBg19Hhw6UH3Kh0RWnxcnLzJBXqADrNvxtadhdFPpQ~cELqrRBjS9sI2G3tzItdNTlaLGPHbiaH3rFpy2~M24bwVMxoIuKRuXVZ1zY7sbyO557FmqMXOyKsvRfozgVUwblNCnpyopaJQ8TTIqWtHRxi4ocpFH9jcIveHFiuWbe-lYPu4g~vjH7P9AwE9U5Mte0L5G8Lrklpxf5cSpSOjAVm40oLLrMKvfYYMyw7qtbtQ__&amp;Key-Pair-Id=APKAJUSDRV55TOQKSATA\" width=\"90\"/>\n",
      "<i class=\"fa fa-camera fa-3x\" title=\"Photo: moving up day.png\"></i>\n",
      "</a>, <a class=\"btn btn-default btn-sm page-media-document-button\" data-download-alt=\"https://tapestryjournal.com/s/ridgefield-primary-school/pages/media-download?page=8898&amp;media=15840\" download=\"Moving Up Day social story.pdf\" href=\"https://tapestryjournal.com/b4/pages/s_42402/p_07-2022/o_15840_6439bn4wpc5at69yfa26tkzsvxb4gtb4.pdf?s=42402&amp;u=290&amp;Expires=1658375079&amp;Signature=b9ltNgk5UduCcZQiKz8DoE6zMemokQfD3NbGQmgO471cuEkP6Ss3mIIeVPiuf1Sb4YoNzs5YEe2~GToDGojhhnl9gGL4V3C-41q7v4Md-vh6FnFNnCDlfL34tC1H6ksZO6ixHalFtaBJ5-Q3cX8AmNgyXxt2mkfvCPrx33ty8s2oeSsPFVu5VwQsJHKSGD4Q8sl2McS8Dmc8QOqqd9NRXySahXmYqrfkE1PnwguUh~9RQk~zRL6hHH9YmtKUPKUGx9Plp-Wcs5Z872sCCRFTQ4NU5hFM4kJ5GiT~5zqglzGm4smHsh-kRK23MA7xmgMt3gNq2iy4ePFFDvAVLJXfuw__&amp;Key-Pair-Id=APKAJUSDRV55TOQKSATA\" title=\"Download this document\">\n",
      "<i class=\"fa fa-fw fa-file-pdf-o\"></i>\n",
      "<div class=\"page-media-document-button-filename\">Moving Up Day social story.pdf</div>\n",
      "<i class=\"fa fa-download\"></i>\n",
      "</a>]\n",
      "len(photo_tags) = 2\n",
      "filename = '20220708_1604_01_Moving Up Day social story.pdf'\n",
      "\n",
      " 15 Jun 2022 03:00 PM 20220615_1500 Kay Barber\n",
      "album_link = 'https://tapestryjournal.com/s/ridgefield-primary-school/pages/media-download-modal/8760'\n",
      "photo_tags = [<a href=\"https://tapestryjournal.com/s/ridgefield-primary-school/pages/media-download?page=8760&amp;media=15590\">\n",
      "<img height=\"90\" src=\"https://tapestryjournal.com/7b/pages/s_42402/p_06-2022/t_o_15590_crpt3q3mwy2q8bgbkzrzjdan4h0wwh7b.jpg?s=42402&amp;u=290&amp;Expires=1658375079&amp;Signature=S9-unD3yR2Uw1xP0T-xz0aExluK050e01C2hbhrHjTv-L9wKajZyrjUEpXFSQPpmUz04r9lzsa76ggdcQoIYmL6qfq-8o-ed10Bv4ogeQWMEr18FVWlx2vIgpa138arxCWti26z83kLy6Z0CNTT3oQ3ZhzEm1h5F496BGjVxHlUIybZZZUMZvV9S1Lsy8mLZvOSC27zemSY1T2b5NuF-DQ70QhZceIXW~Rumf7DHSOVaLdF8bQ69rG-eunIt-SIAMEigrB0Exvd0VlK7KHpvTkH7dV7lpnrlXl-sUMqX5uyGLaBpQQvKCTYuzp0o6Xc1Nqjwcv8aeHwuaO5y~uY7FA__&amp;Key-Pair-Id=APKAJUSDRV55TOQKSATA\" width=\"90\"/>\n",
      "<i class=\"fa fa-camera fa-3x\" title=\"Photo: meet-arthur-bear-ban...\"></i>\n",
      "</a>]\n",
      "len(photo_tags) = 1\n",
      "\n",
      " 06 May 2022 06:20 PM 20220506_1820 Kay Barber\n",
      "album_link = 'https://tapestryjournal.com/s/ridgefield-primary-school/pages/media-download-modal/8561'\n",
      "photo_tags = [<a href=\"https://tapestryjournal.com/s/ridgefield-primary-school/pages/media-download?page=8561&amp;media=15195\">\n",
      "<img height=\"90\" src=\"https://tapestryjournal.com/sn/pages/s_42402/p_05-2022/t_o_15195_frgxxd8zjfkrp6293jfpa4mqy5d2rbsn.jpg?s=42402&amp;u=290&amp;Expires=1658375079&amp;Signature=G~ZnMXc3v0alaiH3E~WuWP~QBvIJpSvQeY8Wqnj99PZG92gQY5Il7voIVe~BcatLF9M1AOxUoG6-3onIMjC3ya1Kw2NTa8TrDXja9BK~wadGb12HaJUixdrqeSWQ3cadm1Zsz~hxdvrBidsxLfdK0yAfToed2ykqquhJSBvC2E6Y7G~a6gxFdkhoJ~TydnEf6NbIXW8OxEplKQCU1BZDdXbECXl6MmVcLBfDKZOEMNV86joafC9WT~YpqL0FZIvk5vbJdqL17AaxVJmgB6M~bT8Yu8zxvyB7m2jlHysy~ZA7fQkpGXyvxB6MaIOw0sU8faOw7FPaYmcydXluE-uSCw__&amp;Key-Pair-Id=APKAJUSDRV55TOQKSATA\" width=\"90\"/>\n",
      "<i class=\"fa fa-camera fa-3x\" title=\"Photo: 20220506_193310.jpg\"></i>\n",
      "</a>, <a href=\"https://tapestryjournal.com/s/ridgefield-primary-school/pages/media-download?page=8561&amp;media=15196\">\n",
      "<img height=\"90\" src=\"https://tapestryjournal.com/00/pages/s_42402/p_05-2022/t_o_15196_w2sjq7qfa3mpf5mwfbh4my1vpyq4jh00.jpg?s=42402&amp;u=290&amp;Expires=1658375079&amp;Signature=CablV0bcdXKj0RfngxkowT4G78IQleD4y2ClpvCt1qoGon2HvBhckn3SehhxqoVtL8Tx7VrqQo7RJ7xFg73pPu-Luz-P3V6yk7zcXAfSg1nAYTX-XIWJmIJUHQJ23c1OaTSwX44Td1ebe-XIQCh~adl4PvAvLneSdQKR~nMM69DeLxhMa0x-SbcOIotvhu4Ug~N-84c~syPe8cVxhLThn3onWwSzgAhk1yl9unYR8iel337sZlDJIp1uIBYX1~2BD5yW0TeI1zIZwajnZHt3s15517yX3AV4lW9eilgYwb2GqM~otWsOvceAnmJPCR6ty6oTznz8s6tWtKkRR3Mutg__&amp;Key-Pair-Id=APKAJUSDRV55TOQKSATA\" width=\"90\"/>\n",
      "<i class=\"fa fa-camera fa-3x\" title=\"Photo: 20220506_194213.jpg\"></i>\n",
      "</a>]\n",
      "len(photo_tags) = 2\n",
      "\n",
      " 05 May 2022 05:06 PM 20220505_1706 Kay Barber\n",
      "album_link = 'https://tapestryjournal.com/s/ridgefield-primary-school/pages/media-download-modal/8529'\n",
      "photo_tags = [<a href=\"https://tapestryjournal.com/s/ridgefield-primary-school/pages/media-download?page=8529&amp;media=15172\">\n",
      "<img height=\"90\" src=\"https://tapestryjournal.com/98/pages/s_42402/p_05-2022/t_o_15172_sr15j1yexyz30adkc75x03ymjne0t998.jpg?s=42402&amp;u=290&amp;Expires=1658375079&amp;Signature=V0RFG-b21tWZLa77AZt~lREHZYG-N7vAFgcdDQlLdfUBf25l87nMSpnyifY7thSyKXghGP9llDVhAAm5D6eKcx8Ryv797lW6y4aQvahGGy4rSVWqR3B6hjdv7e7vq-zOX--Q2Yvv85FmpP~X8vTNpk3TMvxZjMkvvnK4Wv7RPp8WwISzW0hcISXjIGOzSg3qCS3wd~UCKEAzsUrZA9aw2e47g0le3VR8dWrF386z~nq90-7qpUgvhYCaz62EysgBsrAFvx3QZGLXisOCHeSRDGey1haE2KYuj5o4DXbDpCC1VMU4RHqhy-tKB4ke8NeOCV4-qtwxC3V-BGtvBQ8x4g__&amp;Key-Pair-Id=APKAJUSDRV55TOQKSATA\" width=\"90\"/>\n",
      "<i class=\"fa fa-camera fa-3x\" title=\"Photo: 20220505_113542.jpg\"></i>\n",
      "</a>]\n",
      "len(photo_tags) = 1\n",
      "\n",
      " 04 May 2022 01:01 PM 20220504_1301 Kay Barber\n",
      "album_link = 'https://tapestryjournal.com/s/ridgefield-primary-school/pages/media-download-modal/8513'\n",
      "photo_tags = [<a href=\"https://tapestryjournal.com/s/ridgefield-primary-school/pages/media-download?page=8513&amp;media=15150\">\n",
      "<img height=\"90\" src=\"https://tapestryjournal.com/b2/pages/s_42402/p_05-2022/t_o_15150_2s6jgxhsah45s8detfcs7qtw4ac2enb2.jpg?s=42402&amp;u=290&amp;Expires=1658375079&amp;Signature=TIQ2V4g8rQIDoCN6Nc0EpKYR4ykrddyrVLpBBq3t7naZagWRbX-5-d3j-s6QJ-IsXrsrt8brf4mYaPf8sgpnbd5IOx-voIZpZmVZvsQO~vbcL3NPwkdlmP30ls48qSyKbPAYXSe80siuvRm7-dL2HTbcp531VA60LYuSvJuXGFGg~YVXlyy53FDIVYaXPL1sG1N0gAjp0qdp-errp9vGaVWGr3ScsTxP0rsiHSmfjPO2X-gPCp96ZINEEQ5cPe1bBDqPcpJ6BigmWsDn5-um7LX7ux5UV5r~9dUINiyBBQ94wDMiow8cLEzf9CNDZw1iUuW3UyT8BTWhfjhvGwVz9Q__&amp;Key-Pair-Id=APKAJUSDRV55TOQKSATA\" width=\"90\"/>\n",
      "<i class=\"fa fa-video-camera fa-3x\" title=\"Video: 20220504_113340.mp4 (02:54)\"></i>\n",
      "</a>]\n",
      "len(photo_tags) = 1\n",
      "\n",
      " 21 Apr 2022 04:39 PM 20220421_1639 Kay Barber\n",
      "album_link = 'https://tapestryjournal.com/s/ridgefield-primary-school/pages/media-download-modal/8411'\n",
      "photo_tags = [<a href=\"https://tapestryjournal.com/s/ridgefield-primary-school/pages/media-download?page=8411&amp;media=14846\">\n",
      "<img height=\"90\" src=\"https://tapestryjournal.com/0t/pages/s_42402/p_04-2022/t_o_14846_5kev6c27ppw804gmpwza46x67n0r5n0t.jpg?s=42402&amp;u=290&amp;Expires=1658375079&amp;Signature=CQpAfkTRYAlWStHpncytCJR9WMkQGf7l13d8dqEC4WUbEDal9U-0TqyO7gD4HO3KPloKKuOspP6fH9PaOCwL6LAMC3XpBY4Z5Nh1m8F3JKf12FJDw6GbtgnXZQ7PyGsbP9o2CPFTl7SEjxW~~-Q14q1lywuPyZwFKOukXGEalikKiC9qBa30OOlHsXFdr028rsieDx45MYQ6ZPAChnjtIuIENemlMHgNgqtLWjoT7FurW7LRSNJno4SpO2Vl6FzZjZwsQjma-CZ5jbU6jWAaww5egwbdb7j-p5Rb5n6~Bt-LcEeQQqP-Yr0-6dsPkcorQ3B2aXVEQFDzv6qqUc9F5A__&amp;Key-Pair-Id=APKAJUSDRV55TOQKSATA\" width=\"90\"/>\n",
      "<i class=\"fa fa-camera fa-3x\" title=\"Photo: 20220421_154201[1].j...\"></i>\n",
      "</a>]\n",
      "len(photo_tags) = 1\n",
      "\n",
      " 15 Mar 2022 03:25 PM 20220315_1525 Kay Barber\n",
      "album_link = 'https://tapestryjournal.com/s/ridgefield-primary-school/pages/media-download-modal/8179'\n",
      "photo_tags = [<a class=\"btn btn-default btn-sm page-media-document-button\" data-download-alt=\"https://tapestryjournal.com/s/ridgefield-primary-school/pages/media-download?page=8179&amp;media=14207\" download=\"Farm social story.pdf\" href=\"https://tapestryjournal.com/tm/pages/s_42402/p_03-2022/o_14207_aexdrdrs5xr4nmcx5aqrzpr9hgwgvytm.pdf?s=42402&amp;u=290&amp;Expires=1658375079&amp;Signature=XKUCDSElvEiKbwjDx73bpbZ8fmucuso349iNNsLLxpuec6DS3eNqXxzaUmdt-LgCr8-uqqjOYMJVxMGlSzuFKuxTWhp5Po5QLtZk3CSsgwBMdYkrhZb1~cvBikJGPdpEArpjP8i-mQ8YWEhS~yEXK637EJPBmdW7BUi7YTYpi7ltDn~1O3SoNkPqmg3c3lhmK2q5XRJCXU1iJlaZfD9LTOlNiyClqmyLQ6khEsjfs4rY109EQ1gw8AH7Ymz5QNjsr2oyL2uv7t0QamA1fK4cZX4savMCm-5DJdoag-z0CD4CiJgQ0ThVodvIRMzJ1BcbFCdzBc-uJkQAKxubMiyYHw__&amp;Key-Pair-Id=APKAJUSDRV55TOQKSATA\" title=\"Download this document\">\n",
      "<i class=\"fa fa-fw fa-file-pdf-o\"></i>\n",
      "<div class=\"page-media-document-button-filename\">Farm social story.pdf</div>\n",
      "<i class=\"fa fa-download\"></i>\n",
      "</a>]\n",
      "len(photo_tags) = 1\n",
      "filename = '20220315_1525_00_Farm social story.pdf'\n",
      "\n",
      " 28 Feb 2022 03:37 PM 20220228_1537 Mr Axten-Higgs\n",
      "7: NO MEDIA\n",
      "\n",
      " 28 Feb 2022 02:47 PM 20220228_1447 Mr Axten-Higgs\n",
      "8: NO MEDIA\n",
      "\n",
      " 03 Feb 2022 04:34 PM 20220203_1634 Kay Barber\n",
      "9: NO MEDIA\n",
      "\n",
      " 17 Dec 2021 04:14 PM 20211217_1614 Kay Barber\n",
      "album_link = 'https://tapestryjournal.com/s/ridgefield-primary-school/pages/media-download-modal/7590'\n",
      "photo_tags = [<a href=\"https://tapestryjournal.com/s/ridgefield-primary-school/pages/media-download?page=7590&amp;media=12857\">\n",
      "<img height=\"90\" src=\"https://tapestryjournal.com/3w/pages/s_42402/p_12-2021/t_o_12857_y55gxf3gczq0x76hzykj6kvqkj9m0g3w.jpg?s=42402&amp;u=290&amp;Expires=1658375079&amp;Signature=biDeQQL~iXddfT4N2YMLzO7sAk16vAxcq5Yz~WABWgUhfV5t8jTDYJXr-arOLaglBxo3iByabke~LZ-8ijUOlQG-ELB~8ygdNLR637nTGAIU4xXFlJ~AvAkoZKruESCz2KQ9saUy50bvfX7ZL6jhaWsa~Tk~xxenei6md2VRC1iJb1Yu7-7vUnpFB4hoNYpPL8ULo69OMdNBocyCi4SwGYy~au2ILANDOyX3nNo~j41wo4N~iQ6kDzoR7LpK6a8xQHzBq1pPbHlAJrfFgioEhnF3wZTGlBMpM1YxUBsqibxT3Wb8RzDUrecuXPp8m07oV4ppWtRH6FJ2GZjljmY0uw__&amp;Key-Pair-Id=APKAJUSDRV55TOQKSATA\" width=\"90\"/>\n",
      "<i class=\"fa fa-camera fa-3x\" title=\"Photo: Christmas.jpg\"></i>\n",
      "</a>, <a class=\"btn btn-default btn-sm page-media-document-button\" data-download-alt=\"https://tapestryjournal.com/s/ridgefield-primary-school/pages/media-download?page=7590&amp;media=12856\" download=\"Holiday activity ideas.pdf\" href=\"https://tapestryjournal.com/79/pages/s_42402/p_12-2021/o_12856_gfwcbmpjmdystf8pd1n6v7dysm9m9t79.pdf?s=42402&amp;u=290&amp;Expires=1658375079&amp;Signature=gS1VxFNSC~p13DPLJZSo7mYhJASGWU7zhqqrA2LxBBadqx2TCK2Rq4Ehw8qlFazXPypfYYJqnDAuHpsc3WtuTqbzZ5aEWya8bF4YQ~XWawO-HAiuPaD4rJw~NLFvL8QRMdRNp0~g40e25EE1G1HP2~6IH472NxqazDukjT7M6m~Cvl3Ik1U~Y3QQL~mM37liRXtlq-bRB9JQYIpGclMa8Nq2wLFHKyOCkOdJvYmO9OnChL~buxTHdxK7gnLbZBrYqM0dCSCykRyFIFyOc-AuXUl4qxHmJIX2jlJUFc1GR-gtQGq4wa34QzXltJFxJbawrp39dQSG~mFn8TEMEwO8Ng__&amp;Key-Pair-Id=APKAJUSDRV55TOQKSATA\" title=\"Download this document\">\n",
      "<i class=\"fa fa-fw fa-file-pdf-o\"></i>\n",
      "<div class=\"page-media-document-button-filename\">Holiday activity ideas.pdf</div>\n",
      "<i class=\"fa fa-download\"></i>\n",
      "</a>]\n",
      "len(photo_tags) = 2\n",
      "filename = '20211217_1614_01_Holiday activity ideas.pdf'\n",
      "\n",
      " 16 Dec 2021 04:01 PM 20211216_1601 Mr Axten-Higgs\n",
      "album_link = 'https://tapestryjournal.com/s/ridgefield-primary-school/pages/media-download-modal/7538'\n",
      "photo_tags = [<a href=\"https://tapestryjournal.com/s/ridgefield-primary-school/pages/media-download?page=7538&amp;media=12733\">\n",
      "<img height=\"90\" src=\"https://tapestryjournal.com/5v/pages/s_42402/p_12-2021/t_o_12733_27w050ecn68bqept399hxrhmhwgqxe5v.jpg?s=42402&amp;u=290&amp;Expires=1658375079&amp;Signature=K5i6enebH99-fBC2mHrK-fMt~4ebX1cwnU-uAZT6n0uYrOAwJQe1kAUiIPtivXaV-18xCt0NZlGly5c~OxCt-U-6LN2Ze-A5hujQIlwQDhynupS3YseoAU1UuQW~Lr746VW63vGtjrd1Zd8T7x~ta8cJbjZTSNgvHOCztfHiS0tNBAsBV~9CGZDAlHDVvXeotdPmFUFz2J1i7QTVNs6iNuA~5du-ZCL1GOxryRClApaixJP3HSZBd1MJrtQC6Xmmqa8u9pq1sb5GB18kDT8s25BFLkq4msv8vwCNrO4L0vm2Nd2~33qa8pNLH6JgGKuvJ26Tl64VF-x0OrVQThLS4Q__&amp;Key-Pair-Id=APKAJUSDRV55TOQKSATA\" width=\"90\"/>\n",
      "<i class=\"fa fa-video-camera fa-3x\" title=\"Video: Part1.mp4 (06:30)\"></i>\n",
      "</a>, <a href=\"https://tapestryjournal.com/s/ridgefield-primary-school/pages/media-download?page=7538&amp;media=12734\">\n",
      "<img height=\"90\" src=\"https://tapestryjournal.com/n5/pages/s_42402/p_12-2021/t_o_12734_kzzt9srwaqz74sqmfjf1brw6feytspn5.jpg?s=42402&amp;u=290&amp;Expires=1658375079&amp;Signature=IxnNf2FFNq8O0NDS0yxQ0xuzVLoGkV8sm5GaieHX608BdIDM65ZVL6yrObf4D1EtDCJoUmJ3oZcOn7BXhzzak~Xq7I4UtvlXLe9mSzkKk~5I7ZeNHZwRd4KPshMXVTPtdgb330WYbwHrOQtMck6gy5J3EjbknWM22leRNVOQOODUuKV-CC0whk1sq2VfJMza2i28dOO0iJKxnkmpGBtKU7GNWgLCUsi3ziWC5LxKOAk5W-a2hrWIHcSprHJCf359hBbYtJLv21KSwrea24DTNt1h4jCLZIG9L5bMUdILPBslHdHwPmcpsuVb~WyURRLNAvH-ft3a489o~zVxDdv8VQ__&amp;Key-Pair-Id=APKAJUSDRV55TOQKSATA\" width=\"90\"/>\n",
      "<i class=\"fa fa-video-camera fa-3x\" title=\"Video: Part2.mp4 (07:10)\"></i>\n",
      "</a>, <a href=\"https://tapestryjournal.com/s/ridgefield-primary-school/pages/media-download?page=7538&amp;media=12735\">\n",
      "<img height=\"90\" src=\"https://tapestryjournal.com/0k/pages/s_42402/p_12-2021/t_o_12735_rtqmpbq9x61a6m4jevgh1rk2t6hnhc0k.jpg?s=42402&amp;u=290&amp;Expires=1658375079&amp;Signature=NV3sOPky-NJnHylJpI-QaOeYg2EGBX-o4C4yZHkFPMNF-VS7g48sRsTHokVLQ7x~oeV0SPLlQ51LRHp8RQ0Kvu3hIaBM79LUIR-UXuAM-7KQX9WqGtS9EAbt9Tq7IuHbWiTH4x1RT8fd4qSm1QGANOmIzviBPiLCJIvHFvCR-MV0KH7itweGT~MocjovHrBUUmBsCopzXHSZtXcRUzbzjbMvG2AaP4pCWwQFpHjPwB~DX~imIoH91-AGY8angFjZhUUj8IhoOW-rgclZw-0cNIqBez1-YuRefHzI7nXhPrBj4RJyqV7BrOWhsECzi5hCGLtbVKPwERTxU8U5SOhW8g__&amp;Key-Pair-Id=APKAJUSDRV55TOQKSATA\" width=\"90\"/>\n",
      "<i class=\"fa fa-video-camera fa-3x\" title=\"Video: Part3.mp4 (06:23)\"></i>\n",
      "</a>, <a href=\"https://tapestryjournal.com/s/ridgefield-primary-school/pages/media-download?page=7538&amp;media=12736\">\n",
      "<img height=\"90\" src=\"https://tapestryjournal.com/x1/pages/s_42402/p_12-2021/t_o_12736_5n75d9qvbsez02df0hf3z5edbg3kewx1.jpg?s=42402&amp;u=290&amp;Expires=1658375079&amp;Signature=TZ-2zVCkQH~Nw7uw98ChWViWdCRdHV5TvdM1NBbg05G0OkSYoPcqhjmGVQzLDRaKndO-RmaxyLJ8b~gEUIeTU9bUw7NX1DJxYUQntrTxD9Snf6OuwrKFKO-XMlcbWTZ5WEy95sLwF2Hxw~HCHHag~4htcUYgmVZdeWNCa6r34y0cSKJyQg2vIrbIYsy652GVGm9jAgccbuZ2GKjJlqJLsGQjvYaK8NdhvI11Hx0JQy0nXEkUPWIYtyn-xatA6wl5sztu~jaMd6w6jLZgglJjNCaDKbWTzZz-~xEGtGKiqzA-EA4Z0Hw~XAcVr0DcIgQ4WUg5IjMEasqwJGg~jqRxWQ__&amp;Key-Pair-Id=APKAJUSDRV55TOQKSATA\" width=\"90\"/>\n",
      "<i class=\"fa fa-video-camera fa-3x\" title=\"Video: Part4.mp4 (07:07)\"></i>\n",
      "</a>]\n",
      "len(photo_tags) = 4\n",
      "\n",
      " 08 Dec 2021 12:37 PM 20211208_1237 Kay Barber\n",
      "album_link = 'https://tapestryjournal.com/s/ridgefield-primary-school/pages/media-download-modal/7453'\n",
      "photo_tags = [<a class=\"btn btn-default btn-sm page-media-document-button\" data-download-alt=\"https://tapestryjournal.com/s/ridgefield-primary-school/pages/media-download?page=7453&amp;media=12484\" download=\"theatre social story.pdf\" href=\"https://tapestryjournal.com/3x/pages/s_42402/p_12-2021/o_12484_gd9602vax334mvcq0gwjynx9fg81c33x.pdf?s=42402&amp;u=290&amp;Expires=1658375079&amp;Signature=PiNknAkWii7cbplMVlz~7ZEpE~rOnChFPH89uvCAYhX9Z6yIwyjqwTIHW1iz-MQ3bKVvcsuNsYGzeBPdwRkrMBh0YWI46SIteBI~tz9fjGC-P2TXTapSyzxjz~6ksrLTshtZlufPSGne~5uUrkj4yYjX7Ie~dvjRkm5v~-BCDc73WcVb5U7P9WEIhomwN2iYwQmYz-dK-kv~J0H-Up7YySRjLij19Sy6nYnmf-HD7KRVHDnkpJB-7b7snnWgbrPDal71GiD2hqMCW0zcP4zY0sMwXGiWjIQNGuj3WSUJLUed2wtmQusoQTbZkEQC~vz90-HBfjsdzlZbA~saB~U-nw__&amp;Key-Pair-Id=APKAJUSDRV55TOQKSATA\" title=\"Download this document\">\n",
      "<i class=\"fa fa-fw fa-file-pdf-o\"></i>\n",
      "<div class=\"page-media-document-button-filename\">theatre social story.pdf</div>\n",
      "<i class=\"fa fa-download\"></i>\n",
      "</a>]\n",
      "len(photo_tags) = 1\n",
      "filename = '20211208_1237_00_theatre social story.pdf'\n",
      "\n",
      " 06 Dec 2021 01:23 PM 20211206_1323 Mr Axten-Higgs\n",
      "album_link = 'https://tapestryjournal.com/s/ridgefield-primary-school/pages/media-download-modal/7444'\n",
      "photo_tags = [<a class=\"btn btn-default btn-sm page-media-document-button\" data-download-alt=\"https://tapestryjournal.com/s/ridgefield-primary-school/pages/media-download?page=7444&amp;media=12468\" download=\"12 Days of Ridgefield 2021 Timetable.pdf\" href=\"https://tapestryjournal.com/z5/pages/s_42402/p_12-2021/o_12468_mh29k5ths15y3x5dwpxd8a70b7nhxnz5.pdf?s=42402&amp;u=290&amp;Expires=1658375079&amp;Signature=adalNGtRlr2goLGkaddD1gBDXeHQ2Zjb2oOoQ-Eg0LemJozMN~akju97eGiYn9bCEvPa89Jnw-OVgcTBjm08CjLs8I2l5B59TaApBKKhCZag5S-oKp9ufNeIMfE6OZvEDucWJ7HRlCFrksk6SQSiSXWGwzRlnXZQy6xN8mJsOURF6lVI5ApofPkxdrcKtlBxWmUn0f2ISWMw9HQZn0jn57XXYvMdaR-SgyO1Xnf4CFzQyh~Fxk2GtSEsUgLGd7o3KM9ogGb5UP~bQBT4rjW7Gms2CxdhnF8kNNLqA-ks-DwXLqlfNAlptU9XU3wvrObA3jcHRLytcwsxcdbPNGZ-FA__&amp;Key-Pair-Id=APKAJUSDRV55TOQKSATA\" title=\"Download this document\">\n",
      "<i class=\"fa fa-fw fa-file-pdf-o\"></i>\n",
      "<div class=\"page-media-document-button-filename\">12 Days of Ridgefield 2021 Timetable.pdf</div>\n",
      "<i class=\"fa fa-download\"></i>\n",
      "</a>, <a class=\"btn btn-default btn-sm page-media-document-button\" data-download-alt=\"https://tapestryjournal.com/s/ridgefield-primary-school/pages/media-download?page=7444&amp;media=12469\" download=\"Christmas competitions 2021.pdf\" href=\"https://tapestryjournal.com/6d/pages/s_42402/p_12-2021/o_12469_twdsmazp1r0pj79g4e5g482y9chba86d.pdf?s=42402&amp;u=290&amp;Expires=1658375079&amp;Signature=YpSBpCzrfPo-O4DYPcT-xuWoj3BPKWHxTgu3ywvpau-CH-gkHv2X2J9r-l7aDR8wA1eF03k3K7hrs18cBAUCY1-4uE1Aux-hASPqsLzXBSbMTcqfMXghIC4kbb8uKIblCpAAn2rWWHSnvVS7yOYijAxcOgZDz2NNHYk72hZx0JzwbjDuvuf17kLcXuuBW~~HARgjYvq0M6YEKTaTKAGJDJf54CKAsmQWEjxCd6O1DYNvxfn9b8We00GqVE8A0lYgbAaFbztBW4aw1FOHHJNjfe9F0nt4Xe1vo4vNnxRDmVnvy6caJLDWrd1yQ7VW7GWIzNOSVyP-VLs5h9r8qHfU5g__&amp;Key-Pair-Id=APKAJUSDRV55TOQKSATA\" title=\"Download this document\">\n",
      "<i class=\"fa fa-fw fa-file-pdf-o\"></i>\n",
      "<div class=\"page-media-document-button-filename\">Christmas competitions 2021.pdf</div>\n",
      "<i class=\"fa fa-download\"></i>\n",
      "</a>, <a class=\"btn btn-default btn-sm page-media-document-button\" data-download-alt=\"https://tapestryjournal.com/s/ridgefield-primary-school/pages/media-download?page=7444&amp;media=12470\" download=\"Ridgefield Christmas Quiz 2021.pdf\" href=\"https://tapestryjournal.com/kx/pages/s_42402/p_12-2021/o_12470_8p7s6fvyw65jxr8jr0cv4dv44yfb23kx.pdf?s=42402&amp;u=290&amp;Expires=1658375079&amp;Signature=b-nOS7-pdkSm6ZWdaD9CRvHFXBk2XoCZc3NH1J0zR3sWG8VC1OkfnYeEhlX74OhLxbosI1uPwJbER7ZdFcmM8o1d7dCjZhSOZIc3C9U1ruy8MOCagEoF9Ob4LhK1J7LI7jrgopD3HDNjU9OEBmZ6g62rTPpc~-MCr5cQPbZwUh59xaDSd36tUNIR5xDLzOQQnotbLQzJ3W1Y3sIZbdyZ5FU1NRmApRyM6kRB~33wj8-wG0jID2zvN~-EQyAFeisdiEpX8E1KG5b2FQ-6uStH2z7SIWOHro1YyIQh4yiQ1-S0y6rrWPgBS27PqoYhe2l93~rN~pSUW4CRQLxVVaDWcQ__&amp;Key-Pair-Id=APKAJUSDRV55TOQKSATA\" title=\"Download this document\">\n",
      "<i class=\"fa fa-fw fa-file-pdf-o\"></i>\n",
      "<div class=\"page-media-document-button-filename\">Ridgefield Christmas Quiz 2021.pdf</div>\n",
      "<i class=\"fa fa-download\"></i>\n",
      "</a>, <a class=\"btn btn-default btn-sm page-media-document-button\" data-download-alt=\"https://tapestryjournal.com/s/ridgefield-primary-school/pages/media-download?page=7444&amp;media=12471\" download=\"Uniform Sale Poster Dec 2021.pdf\" href=\"https://tapestryjournal.com/x0/pages/s_42402/p_12-2021/o_12471_s4dg1xwx7ngrpjr8ws3abgqja9v989x0.pdf?s=42402&amp;u=290&amp;Expires=1658375079&amp;Signature=cvN16AS7x5wexy2jbF5nKoA1SMlUOZCAn8KRmk~~PwiZ4-cjC-~j0OVHTWBStMRaJgNP66wmcofb0Z8Wvm7HHoKWvwrVTR2n5i4vyff684vlbznKO-hs6pu6obdzZv-WEzGCZbBfeKKoSg~SSrVW0BSmvSn8KkLiYw9RybBLnSF2uCRPgA-3FfagARUeCuhwMUkFzL7n6XdP-zWYaDN6atyN2aRhurZ5AWcJmLjML2EP9dg7o9CqQ7pD08tUdUrGapAdDpjz038OO4WCK99i3w~Ph1DVQN2h8hAB4ge7-49oF4UmiFXtiipD7t-KnCCoL7fbXf4Em-U~i4BFs0KTlA__&amp;Key-Pair-Id=APKAJUSDRV55TOQKSATA\" title=\"Download this document\">\n",
      "<i class=\"fa fa-fw fa-file-pdf-o\"></i>\n",
      "<div class=\"page-media-document-button-filename\">Uniform Sale Poster Dec 2021.pdf</div>\n",
      "<i class=\"fa fa-download\"></i>\n",
      "</a>]\n",
      "len(photo_tags) = 4\n",
      "filename = '20211206_1323_00_12 Days of Ridgefield 2021 Timetable.pdf'\n",
      "filename = '20211206_1323_01_Christmas competitions 2021.pdf'\n",
      "filename = '20211206_1323_02_Ridgefield Christmas Quiz 2021.pdf'\n",
      "filename = '20211206_1323_03_Uniform Sale Poster Dec 2021.pdf'\n",
      "\n",
      " 28 Nov 2021 09:00 AM 20211128_0900 Kay Barber\n",
      "album_link = 'https://tapestryjournal.com/s/ridgefield-primary-school/pages/media-download-modal/7423'\n",
      "photo_tags = [<a href=\"https://tapestryjournal.com/s/ridgefield-primary-school/pages/media-download?page=7423&amp;media=12440\">\n",
      "<img height=\"90\" src=\"https://tapestryjournal.com/cz/pages/s_42402/p_11-2021/t_o_12440_pybyagcb73mn4bgew9cgqdcqa8k2smcz.jpg?s=42402&amp;u=290&amp;Expires=1658375079&amp;Signature=jGB7oF6SBCEsaLA0YPdpjwOsj8Q~T7cch6W45HCSGX4E0MLWxKf5ZiuU-4K9QQMi5Sr5stDrNTWdHZuGuk1gmRX2ySgwsgD-c47JCKJ3yV0tgAmjOb~xTzIN8jRROzxmJZ93hdgoufUE9b~xTYHZWB3RM86dlC5Y1JPl0f-YRAdxW7DEEk9GtovmVuJJrb0~Iy0U1NOH9qnDUxhhxhWsmuSE~0geZ7T1w5hBGcB56f~9vYsjFKD824PDl2~iorgZKvp40QrOJp6YsYCJuFPo9EZtJ95ceYTLkPBQL1jkfJa1Hm43Pg7arqqDlOALkXyH9ujvztGCxJYdHbDXifUNbA__&amp;Key-Pair-Id=APKAJUSDRV55TOQKSATA\" width=\"90\"/>\n",
      "<i class=\"fa fa-camera fa-3x\" title=\"Photo: happy hanukkah.jpg\"></i>\n",
      "</a>]\n",
      "len(photo_tags) = 1\n",
      "\n",
      " 15 Nov 2021 08:00 AM 20211115_0800 Kay Barber\n",
      "album_link = 'https://tapestryjournal.com/s/ridgefield-primary-school/pages/media-download-modal/7236'\n",
      "photo_tags = [<a class=\"btn btn-default btn-sm page-media-document-button\" data-download-alt=\"https://tapestryjournal.com/s/ridgefield-primary-school/pages/media-download?page=7236&amp;media=12165\" download=\"Topic Overview Autumn 2 Blue Penguin.pdf\" href=\"https://tapestryjournal.com/xn/pages/s_42402/p_11-2021/o_12165_mexkmkc21813nej8vqdvd1zna2xjggxn.pdf?s=42402&amp;u=290&amp;Expires=1658375079&amp;Signature=Okp50kzikYBJD5IFoKHbMsVZfDu8WvJuGpW3Zj9iguy5xBS8zowphyT0dQ3MF28Q5gDH2WHpA3idQ5yb6nAkz~Zz03g94MUG0ChbFKf-fMfkMw5sTOLI73muSrc1BN0SvPFTVRSeuDPag6NTafZfhlxG5QGk4bFi7PyJRhTTlhlSOOEysvZLPCZmTBdizSAb7z7w9RP62NSIVE5BjmnMJbry8RANuH2dFDy~cJ-~JDQ3Q2RZb1xasZlMawfTz4WGzRj78JTPWRV7Qp~ISOEDhe0qBzNxkf75qKuEgL0nnAVmBKEBP0ZUrSteZPcdwML8EMYOyer0BU2x3-nuhfvcPQ__&amp;Key-Pair-Id=APKAJUSDRV55TOQKSATA\" title=\"Download this document\">\n",
      "<i class=\"fa fa-fw fa-file-pdf-o\"></i>\n",
      "<div class=\"page-media-document-button-filename\">Topic Overview Autumn 2 Blue Penguin.pdf</div>\n",
      "<i class=\"fa fa-download\"></i>\n",
      "</a>]\n",
      "len(photo_tags) = 1\n",
      "filename = '20211115_0800_00_Topic Overview Autumn 2 Blue Penguin.pdf'\n",
      "\n",
      " 02 Oct 2021 04:45 PM 20211002_1645 Kay Barber\n",
      "album_link = 'https://tapestryjournal.com/s/ridgefield-primary-school/pages/media-download-modal/6895'\n",
      "photo_tags = [<a href=\"https://tapestryjournal.com/s/ridgefield-primary-school/pages/media-download?page=6895&amp;media=11492\">\n",
      "<img height=\"90\" src=\"https://tapestryjournal.com/px/pages/s_42402/p_10-2021/t_o_11492_wpmvfn465mh2zry0y64rzjjw5v3h8epx.jpg?s=42402&amp;u=290&amp;Expires=1658375079&amp;Signature=E~sFADdWRQ9~D34VzvzjMQtxPjIkl~tKSYUesfIt~KEWUrW~61XNaWx8i0R0TI7zoEi8dZ8zJavXNElsYDlTbhp0RFaU1KjUZhRUxBZDzuDX18TJBXVa6HsZ6zBZ8Ov0NBBQZ7HnoGyMGv~0tMyn3kgrHbTBIC4gsLZ6xF1PpKv8eDBVv0wArOIzzHNBeBza4xNXhrZ1TpFAZUMMsspPyvNTX6AhRGlhHZ-hGTP8gxSqmq6MBmygcLFrApkzb9hH-T4EW5~Sk3Q9zZp8ELA6Fd3ZCNM4DH5az5PfO6K8Ns2BNZwfI7ySfTtC3uPE71EpMkdSyGsMw412ibSLwff5UQ__&amp;Key-Pair-Id=APKAJUSDRV55TOQKSATA\" width=\"90\"/>\n",
      "<i class=\"fa fa-video-camera fa-3x\" title=\"Video: Reading in Reception... (10:09)\"></i>\n",
      "</a>]\n",
      "len(photo_tags) = 1\n",
      "\n",
      " 13 Sep 2021 09:57 AM 20210913_0957 Kay Barber\n",
      "album_link = 'https://tapestryjournal.com/s/ridgefield-primary-school/pages/media-download-modal/3108'\n",
      "photo_tags = [<a class=\"btn btn-default btn-sm page-media-document-button\" data-download-alt=\"https://tapestryjournal.com/s/ridgefield-primary-school/pages/media-download?page=3108&amp;media=11050\" download=\"Fire House Letter.pdf\" href=\"https://tapestryjournal.com/5e/pages/s_42402/p_09-2021/o_11050_aj6m5brnckhamj5d25jy3ner0t1e205e.pdf?s=42402&amp;u=290&amp;Expires=1658375079&amp;Signature=cryjEYlSkozm29fKG6sDB86GWafO3AB6W2j-6OHd-yOPA03vBVwVGylYSMq6-BhZrtOqhEB~MoSRmC1xtMQC5Ia~-JZoOr7q7jXKusjX-Y8GKNkeEffrCfF7ZhWOS-z00s9tNEF~wsxwsI2ykRE69uxhMQE9D1tiV73bAigLsSnbbxtyVfu~nZEVFURk1TVR9Ijwp4GKIPx5qABrK61T2oCjSQwy5VUE9~6qqLxqgAUCRESSICuoECtHxFSpDOeOOfHDxHEO6nUWsqHD0eUs2NX45hpsCekQkz2UXtLnHj8Ry6mNBu0sPE2uf77k~zQskc5c9XwIn~Occ5qunhBdpA__&amp;Key-Pair-Id=APKAJUSDRV55TOQKSATA\" title=\"Download this document\">\n",
      "<i class=\"fa fa-fw fa-file-pdf-o\"></i>\n",
      "<div class=\"page-media-document-button-filename\">Fire House Letter.pdf</div>\n",
      "<i class=\"fa fa-download\"></i>\n",
      "</a>]\n",
      "len(photo_tags) = 1\n",
      "filename = '20210913_0957_00_Fire House Letter.pdf'\n",
      "proceeded_num = 18\n",
      "missing = []\n"
     ]
    }
   ],
   "source": [
    "proceeded_num = get_all_media(common_media_blocks, proceeded_num)"
   ]
  },
  {
   "cell_type": "code",
   "execution_count": 44,
   "id": "2ec1fdfd-f81b-4353-bdc5-3e796650823c",
   "metadata": {},
   "outputs": [],
   "source": [
    "com_memos, raw_com_memos = get_all_memos(common_media_blocks)\n",
    "\n",
    "with open(records_dir / 'com_memos.md', 'w', encoding='utf-8') as f:\n",
    "    f.write(com_memos)\n",
    "    \n",
    "with open(records_dir / 'com_memos_raw.txt', 'w', encoding='utf-8') as f:\n",
    "    f.write(raw_com_memos)"
   ]
  }
 ],
 "metadata": {
  "kernelspec": {
   "display_name": "Python 3 (ipykernel)",
   "language": "python",
   "name": "python3"
  },
  "language_info": {
   "codemirror_mode": {
    "name": "ipython",
    "version": 3
   },
   "file_extension": ".py",
   "mimetype": "text/x-python",
   "name": "python",
   "nbconvert_exporter": "python",
   "pygments_lexer": "ipython3",
   "version": "3.10.4"
  }
 },
 "nbformat": 4,
 "nbformat_minor": 5
}
